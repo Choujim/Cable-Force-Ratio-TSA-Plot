{
 "cells": [
  {
   "cell_type": "code",
   "execution_count": null,
   "metadata": {},
   "outputs": [],
   "source": [
    "from pyecharts.charts import Bar\n",
    "import numpy as np"
   ]
  },
  {
   "cell_type": "code",
   "execution_count": null,
   "metadata": {},
   "outputs": [],
   "source": [
    "bar = Bar()\n",
    "x = range(5)\n",
    "y = [5, 6, 1, 2, 8]\n",
    "bar.add_xaxis(list(x))\n",
    "bar.add_yaxis(\"y\", y)\n",
    "bar.render_notebook()   # 用于在notebook中显示图形"
   ]
  },
  {
   "cell_type": "code",
   "execution_count": null,
   "metadata": {},
   "outputs": [],
   "source": [
    "from pyecharts.charts import Bar\n",
    "\n",
    "bar = Bar()\n",
    "bar.add_xaxis([\"衬衫\", \"羊毛衫\", \"雪纺衫\", \"裤子\", \"高跟鞋\", \"袜子\"])\n",
    "bar.add_yaxis(\"商家A\", [5, 20, 36, 10, 75, 90])\n",
    "# render 会生成本地 HTML 文件，默认会在当前目录生成 render.html 文件\n",
    "# 也可以传入路径参数，如 bar.render(\"mycharts.html\")\n",
    "bar.render_notebook()"
   ]
  },
  {
   "cell_type": "code",
   "execution_count": null,
   "metadata": {},
   "outputs": [],
   "source": [
    "from pyecharts.render import make_snapshot\n",
    "# 使用 snapshot-selenium 渲染图片\n",
    "from snapshot_selenium import snapshot\n",
    "make_snapshot(snapshot, bar.render(), \"bar.png\")"
   ]
  },
  {
   "cell_type": "code",
   "execution_count": null,
   "metadata": {},
   "outputs": [],
   "source": [
    "from pyecharts import options as opts\n",
    "bar = Bar()\n",
    "bar.add_xaxis([\"衬衫\", \"羊毛衫\", \"雪纺衫\", \"裤子\", \"高跟鞋\", \"袜子\"])\n",
    "bar.add_yaxis(\"商家A\", [5, 20, 36, 10, 75, 90])\n",
    "bar.set_global_opts(title_opts=opts.TitleOpts(title=\"主标题\", subtitle=\"副标题\"))\n",
    "bar.render_notebook()"
   ]
  },
  {
   "cell_type": "code",
   "execution_count": null,
   "metadata": {},
   "outputs": [],
   "source": [
    "# 内置主题类型可查看 pyecharts.globals.ThemeType\n",
    "from pyecharts.globals import ThemeType\n",
    "\n",
    "bar = (\n",
    "    Bar(init_opts=opts.InitOpts(theme=ThemeType.VINTAGE))\n",
    "    .add_xaxis([\"衬衫\", \"羊毛衫\", \"雪纺衫\", \"裤子\", \"高跟鞋\", \"袜子\"])\n",
    "    .add_yaxis(\"商家A\", [5, 20, 36, 10, 75, 90])\n",
    "    .add_yaxis(\"商家B\", [15, 6, 45, 20, 35, 66])\n",
    "    .set_global_opts(title_opts=opts.TitleOpts(title=\"主标题\", subtitle=\"副标题\"))\n",
    ")\n",
    "bar.render_notebook()"
   ]
  },
  {
   "cell_type": "code",
   "execution_count": null,
   "metadata": {},
   "outputs": [],
   "source": [
    "class EffectScatter(\n",
    "    # 初始化配置项，参考 `global_options.InitOpts`\n",
    "    init_opts: opts.InitOpts = opts.InitOpts()\n",
    ")\n",
    "class EffectScatterItem(\n",
    "    # 数据项名称。\n",
    "    name: Union[str, Numeric] = None,\n",
    "\n",
    "    # 数据项的值\n",
    "    value: Union[str, Numeric] = None,\n",
    "\n",
    "    # 单个数据标记的图形。\n",
    "    symbol: Optional[str] = None,\n",
    "\n",
    "    # 单个数据标记的大小\n",
    "    symbol_size: Union[Sequence[Numeric], Numeric] = None,\n",
    "\n",
    "    # 单个数据标记的旋转角度（而非弧度）。\n",
    "    symbol_rotate: Optional[Numeric] = None,\n",
    "\n",
    "    # 如果 symbol 是 path:// 的形式，是否在缩放时保持该图形的长宽比。\n",
    "    symbol_keep_aspect: bool = False,\n",
    "\n",
    "    # 单个数据标记相对于原本位置的偏移。\n",
    "    symbol_offset: Optional[Sequence] = None,\n",
    "\n",
    "    # 标签配置项，参考 `series_options.LabelOpts`\n",
    "    label_opts: Union[LabelOpts, dict, None] = None,\n",
    "\n",
    "    # 图元样式配置项，参考 `series_options.ItemStyleOpts`\n",
    "    itemstyle_opts: Union[ItemStyleOpts, dict, None] = None,\n",
    "\n",
    "    # 提示框组件配置项，参考 `series_options.TooltipOpts`\n",
    "    tooltip_opts: Union[TooltipOpts, dict, None] = None,\n",
    ")\n",
    "\n",
    "def add_yaxis(\n",
    "     # 系列名称，用于 tooltip 的显示，legend 的图例筛选。\n",
    "    series_name: str,\n",
    "\n",
    "    # 系列数据\n",
    "    y_axis: types.Sequence[types.Union[opts.BoxplotItem, dict]],\n",
    "\n",
    "    # 是否选中图例\n",
    "    is_selected: bool = True,\n",
    "\n",
    "    # 使用的 x 轴的 index，在单个图表实例中存在多个 x 轴的时候有用。\n",
    "    xaxis_index: Optional[Numeric] = None,\n",
    "\n",
    "    # 使用的 y 轴的 index，在单个图表实例中存在多个 y 轴的时候有用。\n",
    "    yaxis_index: Optional[Numeric] = None,\n",
    "\n",
    "    # 系列 label 颜色\n",
    "    color: Optional[str] = None,\n",
    "\n",
    "    # 标记图形形状\n",
    "    symbol: Optional[str] = None,\n",
    "\n",
    "    # 标记的大小\n",
    "    symbol_size: Numeric = 10,\n",
    "\n",
    "    # 标记的旋转角度。注意在 markLine 中当 symbol 为 'arrow' 时会忽略 symbolRotate 强制设置为切线的角度。\n",
    "    symbol_rotate: types.Optional[types.Numeric] = None,\n",
    "\n",
    "    # 标签配置项，参考 `series_options.LabelOpts`\n",
    "    label_opts: Union[opts.LabelOpts, dict] = opts.LabelOpts(),\n",
    "\n",
    "    # 涟漪特效配置项，参考 `series_options.EffectOpts`\n",
    "    effect_opts: Union[opts.EffectOpts, dict] = opts.EffectOpts(),\n",
    "\n",
    "    # 提示框组件配置项，参考 `series_options.TooltipOpts`\n",
    "    tooltip_opts: Union[opts.TooltipOpts, dict, None] = None,\n",
    "\n",
    "    # 图元样式配置项，参考 `series_options.ItemStyleOpts`\n",
    "    itemstyle_opts: Union[opts.ItemStyleOpts, dict, None] = None,\n",
    ")"
   ]
  }
 ],
 "metadata": {
  "kernelspec": {
   "display_name": "plot",
   "language": "python",
   "name": "python3"
  },
  "language_info": {
   "codemirror_mode": {
    "name": "ipython",
    "version": 3
   },
   "file_extension": ".py",
   "mimetype": "text/x-python",
   "name": "python",
   "nbconvert_exporter": "python",
   "pygments_lexer": "ipython3",
   "version": "3.11.5"
  },
  "orig_nbformat": 4
 },
 "nbformat": 4,
 "nbformat_minor": 2
}
