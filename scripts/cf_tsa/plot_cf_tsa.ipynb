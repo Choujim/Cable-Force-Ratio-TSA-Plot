{
 "cells": [
  {
   "cell_type": "code",
   "execution_count": null,
   "metadata": {},
   "outputs": [],
   "source": [
    "import os\n",
    "import pandas as pd\n",
    "from pyecharts import options as opts\n",
    "from pyecharts.charts import Timeline, Line\n"
   ]
  },
  {
   "cell_type": "code",
   "execution_count": null,
   "metadata": {},
   "outputs": [],
   "source": [
    "src_file = r'../../data/pre2011_data.csv'\n",
    "if os.path.exists(src_file):\n",
    "    data = pd.read_csv(src_file, header=None, encoding='latin-1')\n",
    "else:\n",
    "    raise FileNotFoundError(\"File %s not found!\" % (src_file))\n",
    "data.dropna(axis=1, how='all', inplace=True)\n",
    "data.fillna(0, inplace=True)\n",
    "\n",
    "num_cols = len(data.columns)\n",
    "num_days = 9\n",
    "# num_points_perday = 172800\n",
    "num_points_perday = 512\n",
    "\n",
    "\n"
   ]
  },
  {
   "cell_type": "code",
   "execution_count": null,
   "metadata": {},
   "outputs": [],
   "source": [
    "color0 = ['#FF76A2']\n",
    "\n",
    "f_1 = Timeline()\n",
    "total_lenth = num_points_perday\n",
    "id_col = 0\n",
    "col_data = list(data.iloc[:,id_col])\n",
    "for i in range(0, total_lenth):\n",
    "    x_max = i\n",
    "    y_max = int(max(col_data[0:i+1])) + 10\n",
    "    y_min = int(min(col_data[0:i+1])) -10\n",
    "\n",
    "    c = (\n",
    "        Line(\n",
    "            init_opts=opts.InitOpts(width='2500px', \n",
    "                                    height='900px',\n",
    "                                    animation_opts=opts.AnimationOpts(animation=True)\n",
    "                                    )\n",
    "        )\n",
    "        .add_xaxis(xaxis_data=list(range(i)))\n",
    "        .add_yaxis(\n",
    "            series_name=\"Cable Force\",\n",
    "            y_axis=list(col_data[0:i]),\n",
    "            is_smooth=True,\n",
    "            is_symbol_show=False,\n",
    "            linestyle_opts=opts.LineStyleOpts(color=color0[0], width=2),\n",
    "        )\n",
    "        .set_global_opts(\n",
    "            title_opts=opts.TitleOpts(title=\"Cable id:{:>2d}\".format(id_col),\n",
    "                                      pos_top=\"left\", pos_left=\"left\"),\n",
    "            xaxis_opts=opts.AxisOpts(type_=\"value\", name=\"Time\", name_location=\"center\", name_gap=20,\n",
    "                                     max_=x_max, splitline_opts=opts.SplitLineOpts(is_show=True, linestyle_opts=opts.LineStyleOpts())),\n",
    "            yaxis_opts=opts.AxisOpts(min_=y_min, max_=y_max,\n",
    "                                     axisline_opts=opts.AxisLineOpts(is_show=False)),\n",
    "            toolbox_opts=opts.ToolboxOpts(is_show=True),\n",
    "            tooltip_opts=opts.TooltipOpts(trigger=\"axis\")\n",
    "        )\n",
    "    )\n",
    "    f_1.add(c, \"{}\".format(i))\n",
    "    f_1.add_schema(axis_type='value', play_interval=30,\n",
    "                   pos_bottom=\"-5px\", pos_left=\"left\", pos_right=\"5%\",\n",
    "                   label_opts=opts.LabelOpts(is_show=False),\n",
    "                   is_loop_play=False)\n",
    "# f_1.render(\"cfr_tsa.html\")\n",
    "f_1.render_notebook()"
   ]
  }
 ],
 "metadata": {
  "kernelspec": {
   "display_name": "plot",
   "language": "python",
   "name": "python3"
  },
  "language_info": {
   "codemirror_mode": {
    "name": "ipython",
    "version": 3
   },
   "file_extension": ".py",
   "mimetype": "text/x-python",
   "name": "python",
   "nbconvert_exporter": "python",
   "pygments_lexer": "ipython3",
   "version": "3.11.5"
  },
  "orig_nbformat": 4
 },
 "nbformat": 4,
 "nbformat_minor": 2
}
