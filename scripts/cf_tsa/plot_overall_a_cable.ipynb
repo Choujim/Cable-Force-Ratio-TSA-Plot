{
 "cells": [
  {
   "cell_type": "code",
   "execution_count": null,
   "metadata": {},
   "outputs": [],
   "source": [
    "import os\n",
    "import numpy as np\n",
    "import pandas as pd\n",
    "import matplotlib.pyplot as plt"
   ]
  },
  {
   "cell_type": "code",
   "execution_count": null,
   "metadata": {},
   "outputs": [],
   "source": [
    "# src_file = r'../../data/pre2011_data.csv'\n",
    "# src_file = r'../../data/full2011_data.csv'\n",
    "src_file = r'../../data/in2011_data.csv'\n",
    "if os.path.exists(src_file):\n",
    "    data = pd.read_csv(src_file, header=None, encoding='latin-1')\n",
    "else:\n",
    "    raise FileNotFoundError(\"File %s not found!\" % (src_file))"
   ]
  },
  {
   "cell_type": "code",
   "execution_count": null,
   "metadata": {},
   "outputs": [],
   "source": [
    "cable_idx = 5\n",
    "col_data_1 = np.array(data.iloc[:,cable_idx].values)\n",
    "plt.plot(col_data_1)"
   ]
  }
 ],
 "metadata": {
  "kernelspec": {
   "display_name": "plot",
   "language": "python",
   "name": "python3"
  },
  "language_info": {
   "codemirror_mode": {
    "name": "ipython",
    "version": 3
   },
   "file_extension": ".py",
   "mimetype": "text/x-python",
   "name": "python",
   "nbconvert_exporter": "python",
   "pygments_lexer": "ipython3",
   "version": "3.11.5"
  }
 },
 "nbformat": 4,
 "nbformat_minor": 2
}
